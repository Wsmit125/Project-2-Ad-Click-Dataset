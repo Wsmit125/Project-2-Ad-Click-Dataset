{
 "cells": [
  {
   "cell_type": "markdown",
   "metadata": {},
   "source": [
    "# Introduction"
   ]
  },
  {
   "cell_type": "markdown",
   "metadata": {},
   "source": [
    "Advertising has been, and likely always will be, an integral part of our capitalist society. Where there is demand, there is an opportunity to earn. As such, optimizing advertisements is essential for any company looking to increase revenue. This optimization can come from changing colors, wording, or even where you see an ad. Anyone familiar with internet browsing will know how often ads are shown, all with the goal of getting you to click to learn more. Maybe clicking takes you to an amazon page or to a front page for the brand, either way, the click is a powerful step in advertising. This analysis seeks to answer the question: \"What strategy best ensures a viewer clicks on an ad?\" To answer this question, we will examine the the ads position and the details around when it's shown, including time, browsing history, and what device the ad is being viewed on."
   ]
  },
  {
   "cell_type": "markdown",
   "metadata": {},
   "source": [
    "## The Data"
   ]
  },
  {
   "cell_type": "markdown",
   "metadata": {},
   "source": [
    "Our data comes from the \"Ad Click Prediction Dataset\" on kaggle, collected by Ciobanu Marius. The data consists of 10,000 entries across 9 features. These features include:\n",
    "1. <b>id</b> - the id given to the viewer\n",
    "2. <b>full_name</b> - the name of the viewer (formatted as 'UserX' for anonymity)\n",
    "3. <b>age</b> - the age of the viewer\n",
    "4. <b>gender</b> - the gender of the viewer\n",
    "5. <b>device_type</b> - the type of device used\n",
    "6. <b>ad_position</b> - the position of the ad on the page\n",
    "7. <b>browsing_history</b> - what type of browsing was happening before the ad was shown\n",
    "8. <b>time_of_day</b> - the time the ad was seen\n",
    "9. <b>click</b> - the binary target value for whether the ad was clicked<br>\n",
    "\n",
    "Of the variables, <b>id</b> and <b>full_name</b> are identifying variables and therefore aren't meant to be used as predictors. <b>age</b> is the only numerical variable, with the rest being categorical, aside from our target variable <b>click</b>. We can observe below that the dataset appears to be a little unbalanced, with our target variable returning '1' 6,500 times and '0' only 3,500 times."
   ]
  },
  {
   "cell_type": "code",
   "execution_count": 1,
   "metadata": {},
   "outputs": [],
   "source": [
    "import pandas as pd"
   ]
  },
  {
   "cell_type": "code",
   "execution_count": 38,
   "metadata": {},
   "outputs": [
    {
     "data": {
      "text/html": [
       "<div>\n",
       "<style scoped>\n",
       "    .dataframe tbody tr th:only-of-type {\n",
       "        vertical-align: middle;\n",
       "    }\n",
       "\n",
       "    .dataframe tbody tr th {\n",
       "        vertical-align: top;\n",
       "    }\n",
       "\n",
       "    .dataframe thead th {\n",
       "        text-align: right;\n",
       "    }\n",
       "</style>\n",
       "<table border=\"1\" class=\"dataframe\">\n",
       "  <thead>\n",
       "    <tr style=\"text-align: right;\">\n",
       "      <th></th>\n",
       "      <th>id</th>\n",
       "      <th>full_name</th>\n",
       "      <th>age</th>\n",
       "      <th>gender</th>\n",
       "      <th>device_type</th>\n",
       "      <th>ad_position</th>\n",
       "      <th>browsing_history</th>\n",
       "      <th>time_of_day</th>\n",
       "      <th>click</th>\n",
       "    </tr>\n",
       "  </thead>\n",
       "  <tbody>\n",
       "    <tr>\n",
       "      <th>0</th>\n",
       "      <td>670</td>\n",
       "      <td>User670</td>\n",
       "      <td>22.0</td>\n",
       "      <td>NaN</td>\n",
       "      <td>Desktop</td>\n",
       "      <td>Top</td>\n",
       "      <td>Shopping</td>\n",
       "      <td>Afternoon</td>\n",
       "      <td>1</td>\n",
       "    </tr>\n",
       "    <tr>\n",
       "      <th>1</th>\n",
       "      <td>3044</td>\n",
       "      <td>User3044</td>\n",
       "      <td>NaN</td>\n",
       "      <td>Male</td>\n",
       "      <td>Desktop</td>\n",
       "      <td>Top</td>\n",
       "      <td>NaN</td>\n",
       "      <td>NaN</td>\n",
       "      <td>1</td>\n",
       "    </tr>\n",
       "    <tr>\n",
       "      <th>2</th>\n",
       "      <td>5912</td>\n",
       "      <td>User5912</td>\n",
       "      <td>41.0</td>\n",
       "      <td>Non-Binary</td>\n",
       "      <td>NaN</td>\n",
       "      <td>Side</td>\n",
       "      <td>Education</td>\n",
       "      <td>Night</td>\n",
       "      <td>1</td>\n",
       "    </tr>\n",
       "    <tr>\n",
       "      <th>3</th>\n",
       "      <td>5418</td>\n",
       "      <td>User5418</td>\n",
       "      <td>34.0</td>\n",
       "      <td>Male</td>\n",
       "      <td>NaN</td>\n",
       "      <td>NaN</td>\n",
       "      <td>Entertainment</td>\n",
       "      <td>Evening</td>\n",
       "      <td>1</td>\n",
       "    </tr>\n",
       "    <tr>\n",
       "      <th>4</th>\n",
       "      <td>9452</td>\n",
       "      <td>User9452</td>\n",
       "      <td>39.0</td>\n",
       "      <td>Non-Binary</td>\n",
       "      <td>NaN</td>\n",
       "      <td>NaN</td>\n",
       "      <td>Social Media</td>\n",
       "      <td>Morning</td>\n",
       "      <td>0</td>\n",
       "    </tr>\n",
       "  </tbody>\n",
       "</table>\n",
       "</div>"
      ],
      "text/plain": [
       "     id full_name   age      gender device_type ad_position browsing_history  \\\n",
       "0   670   User670  22.0         NaN     Desktop         Top         Shopping   \n",
       "1  3044  User3044   NaN        Male     Desktop         Top              NaN   \n",
       "2  5912  User5912  41.0  Non-Binary         NaN        Side        Education   \n",
       "3  5418  User5418  34.0        Male         NaN         NaN    Entertainment   \n",
       "4  9452  User9452  39.0  Non-Binary         NaN         NaN     Social Media   \n",
       "\n",
       "  time_of_day  click  \n",
       "0   Afternoon      1  \n",
       "1         NaN      1  \n",
       "2       Night      1  \n",
       "3     Evening      1  \n",
       "4     Morning      0  "
      ]
     },
     "execution_count": 38,
     "metadata": {},
     "output_type": "execute_result"
    }
   ],
   "source": [
    "# import dataset into a Pandas dataframe\n",
    "df = pd.read_csv('ad_click_dataset.csv')\n",
    "\n",
    "#View dataset\n",
    "df.head()"
   ]
  },
  {
   "cell_type": "code",
   "execution_count": 3,
   "metadata": {},
   "outputs": [
    {
     "data": {
      "text/plain": [
       "(10000, 9)"
      ]
     },
     "execution_count": 3,
     "metadata": {},
     "output_type": "execute_result"
    }
   ],
   "source": [
    "#dataset dimensions\n",
    "df.shape"
   ]
  },
  {
   "cell_type": "code",
   "execution_count": 4,
   "metadata": {},
   "outputs": [
    {
     "data": {
      "text/plain": [
       "id                    int64\n",
       "full_name            object\n",
       "age                 float64\n",
       "gender               object\n",
       "device_type          object\n",
       "ad_position          object\n",
       "browsing_history     object\n",
       "time_of_day          object\n",
       "click                 int64\n",
       "dtype: object"
      ]
     },
     "execution_count": 4,
     "metadata": {},
     "output_type": "execute_result"
    }
   ],
   "source": [
    "#dataset features and datatypes\n",
    "df.dtypes"
   ]
  },
  {
   "cell_type": "code",
   "execution_count": 56,
   "metadata": {},
   "outputs": [
    {
     "data": {
      "text/plain": [
       "click\n",
       "1    6500\n",
       "0    3500\n",
       "Name: count, dtype: int64"
      ]
     },
     "execution_count": 56,
     "metadata": {},
     "output_type": "execute_result"
    }
   ],
   "source": [
    "df['click'].value_counts()"
   ]
  },
  {
   "cell_type": "markdown",
   "metadata": {},
   "source": [
    "## Preprocessing"
   ]
  },
  {
   "cell_type": "markdown",
   "metadata": {},
   "source": [
    "Our preprocessing begins by examining the number of null values in each variable. We can see below that a large number of values are left null, meaning we cannot just remove all entries with invalid data. We will keep this in mind as we build out our model."
   ]
  },
  {
   "cell_type": "code",
   "execution_count": 7,
   "metadata": {},
   "outputs": [
    {
     "data": {
      "text/plain": [
       "id                     0\n",
       "full_name              0\n",
       "age                 4766\n",
       "gender              4693\n",
       "device_type         2000\n",
       "ad_position         2000\n",
       "browsing_history    4782\n",
       "time_of_day         2000\n",
       "click                  0\n",
       "dtype: int64"
      ]
     },
     "execution_count": 7,
     "metadata": {},
     "output_type": "execute_result"
    }
   ],
   "source": [
    "#check for missing values\n",
    "df.isnull().sum()"
   ]
  },
  {
   "cell_type": "markdown",
   "metadata": {},
   "source": [
    "Next, we check for any duplicate entries. Here we find that 2,853 entries are duplicates. At first this could be explained by the limited amount of values in each variable. This can be disproved, however, after considering the <b>id</b> column. Therefore, these entries must be removed. Observing the new balance of data, we see that all duplicated entries were returning a '1' for <b>click</b>. On top of balancing our dataset, this also removes some of the null value entries as well, meaning less of our data is missing."
   ]
  },
  {
   "cell_type": "code",
   "execution_count": 20,
   "metadata": {},
   "outputs": [
    {
     "data": {
      "text/plain": [
       "2853"
      ]
     },
     "execution_count": 20,
     "metadata": {},
     "output_type": "execute_result"
    }
   ],
   "source": [
    "df.duplicated().sum()"
   ]
  },
  {
   "cell_type": "code",
   "execution_count": 69,
   "metadata": {},
   "outputs": [
    {
     "data": {
      "text/plain": [
       "click\n",
       "1    3647\n",
       "0    3500\n",
       "Name: count, dtype: int64"
      ]
     },
     "execution_count": 69,
     "metadata": {},
     "output_type": "execute_result"
    }
   ],
   "source": [
    "df_clean = df.drop_duplicates()\n",
    "df_forGraphs = df_clean\n",
    "df_clean['click'].value_counts()"
   ]
  },
  {
   "cell_type": "code",
   "execution_count": 65,
   "metadata": {},
   "outputs": [
    {
     "data": {
      "text/plain": [
       "id                     0\n",
       "full_name              0\n",
       "age                 3476\n",
       "gender              3400\n",
       "device_type         1728\n",
       "ad_position         1743\n",
       "browsing_history    3480\n",
       "time_of_day         1712\n",
       "click                  0\n",
       "dtype: int64"
      ]
     },
     "execution_count": 65,
     "metadata": {},
     "output_type": "execute_result"
    }
   ],
   "source": [
    "df_clean.isnull().sum()"
   ]
  },
  {
   "cell_type": "markdown",
   "metadata": {},
   "source": [
    "Now we begin the process of converting categorical variables into binary ones. <b>gender</b>, <b>device_type</b>, <b>ad_position</b>, <b>browsing_history</b>, and <b>time_of_day</b> can all be broken down using dummy encoding. We simply create coloumns of each possible answer in the categorical variables and remove the original variables when we are done. This reshaping of the dataset turns our 9 original variables into 22 total features, of which 18 are the new binary variables. Splitting up the variables in this way will allow us to see the differences in each value."
   ]
  },
  {
   "cell_type": "code",
   "execution_count": 66,
   "metadata": {},
   "outputs": [
    {
     "data": {
      "text/html": [
       "<div>\n",
       "<style scoped>\n",
       "    .dataframe tbody tr th:only-of-type {\n",
       "        vertical-align: middle;\n",
       "    }\n",
       "\n",
       "    .dataframe tbody tr th {\n",
       "        vertical-align: top;\n",
       "    }\n",
       "\n",
       "    .dataframe thead th {\n",
       "        text-align: right;\n",
       "    }\n",
       "</style>\n",
       "<table border=\"1\" class=\"dataframe\">\n",
       "  <thead>\n",
       "    <tr style=\"text-align: right;\">\n",
       "      <th></th>\n",
       "      <th>id</th>\n",
       "      <th>full_name</th>\n",
       "      <th>age</th>\n",
       "      <th>click</th>\n",
       "      <th>Female</th>\n",
       "      <th>Male</th>\n",
       "      <th>Non-Binary</th>\n",
       "      <th>Desktop</th>\n",
       "      <th>Mobile</th>\n",
       "      <th>Tablet</th>\n",
       "      <th>...</th>\n",
       "      <th>Top</th>\n",
       "      <th>Education</th>\n",
       "      <th>Entertainment</th>\n",
       "      <th>News</th>\n",
       "      <th>Shopping</th>\n",
       "      <th>Social Media</th>\n",
       "      <th>Afternoon</th>\n",
       "      <th>Evening</th>\n",
       "      <th>Morning</th>\n",
       "      <th>Night</th>\n",
       "    </tr>\n",
       "  </thead>\n",
       "  <tbody>\n",
       "    <tr>\n",
       "      <th>0</th>\n",
       "      <td>670</td>\n",
       "      <td>User670</td>\n",
       "      <td>22.0</td>\n",
       "      <td>1</td>\n",
       "      <td>0</td>\n",
       "      <td>0</td>\n",
       "      <td>0</td>\n",
       "      <td>1</td>\n",
       "      <td>0</td>\n",
       "      <td>0</td>\n",
       "      <td>...</td>\n",
       "      <td>1</td>\n",
       "      <td>0</td>\n",
       "      <td>0</td>\n",
       "      <td>0</td>\n",
       "      <td>1</td>\n",
       "      <td>0</td>\n",
       "      <td>1</td>\n",
       "      <td>0</td>\n",
       "      <td>0</td>\n",
       "      <td>0</td>\n",
       "    </tr>\n",
       "    <tr>\n",
       "      <th>1</th>\n",
       "      <td>3044</td>\n",
       "      <td>User3044</td>\n",
       "      <td>NaN</td>\n",
       "      <td>1</td>\n",
       "      <td>0</td>\n",
       "      <td>1</td>\n",
       "      <td>0</td>\n",
       "      <td>1</td>\n",
       "      <td>0</td>\n",
       "      <td>0</td>\n",
       "      <td>...</td>\n",
       "      <td>1</td>\n",
       "      <td>0</td>\n",
       "      <td>0</td>\n",
       "      <td>0</td>\n",
       "      <td>0</td>\n",
       "      <td>0</td>\n",
       "      <td>0</td>\n",
       "      <td>0</td>\n",
       "      <td>0</td>\n",
       "      <td>0</td>\n",
       "    </tr>\n",
       "    <tr>\n",
       "      <th>2</th>\n",
       "      <td>5912</td>\n",
       "      <td>User5912</td>\n",
       "      <td>41.0</td>\n",
       "      <td>1</td>\n",
       "      <td>0</td>\n",
       "      <td>0</td>\n",
       "      <td>1</td>\n",
       "      <td>0</td>\n",
       "      <td>0</td>\n",
       "      <td>0</td>\n",
       "      <td>...</td>\n",
       "      <td>0</td>\n",
       "      <td>1</td>\n",
       "      <td>0</td>\n",
       "      <td>0</td>\n",
       "      <td>0</td>\n",
       "      <td>0</td>\n",
       "      <td>0</td>\n",
       "      <td>0</td>\n",
       "      <td>0</td>\n",
       "      <td>1</td>\n",
       "    </tr>\n",
       "    <tr>\n",
       "      <th>3</th>\n",
       "      <td>5418</td>\n",
       "      <td>User5418</td>\n",
       "      <td>34.0</td>\n",
       "      <td>1</td>\n",
       "      <td>0</td>\n",
       "      <td>1</td>\n",
       "      <td>0</td>\n",
       "      <td>0</td>\n",
       "      <td>0</td>\n",
       "      <td>0</td>\n",
       "      <td>...</td>\n",
       "      <td>0</td>\n",
       "      <td>0</td>\n",
       "      <td>1</td>\n",
       "      <td>0</td>\n",
       "      <td>0</td>\n",
       "      <td>0</td>\n",
       "      <td>0</td>\n",
       "      <td>1</td>\n",
       "      <td>0</td>\n",
       "      <td>0</td>\n",
       "    </tr>\n",
       "    <tr>\n",
       "      <th>4</th>\n",
       "      <td>9452</td>\n",
       "      <td>User9452</td>\n",
       "      <td>39.0</td>\n",
       "      <td>0</td>\n",
       "      <td>0</td>\n",
       "      <td>0</td>\n",
       "      <td>1</td>\n",
       "      <td>0</td>\n",
       "      <td>0</td>\n",
       "      <td>0</td>\n",
       "      <td>...</td>\n",
       "      <td>0</td>\n",
       "      <td>0</td>\n",
       "      <td>0</td>\n",
       "      <td>0</td>\n",
       "      <td>0</td>\n",
       "      <td>1</td>\n",
       "      <td>0</td>\n",
       "      <td>0</td>\n",
       "      <td>1</td>\n",
       "      <td>0</td>\n",
       "    </tr>\n",
       "    <tr>\n",
       "      <th>...</th>\n",
       "      <td>...</td>\n",
       "      <td>...</td>\n",
       "      <td>...</td>\n",
       "      <td>...</td>\n",
       "      <td>...</td>\n",
       "      <td>...</td>\n",
       "      <td>...</td>\n",
       "      <td>...</td>\n",
       "      <td>...</td>\n",
       "      <td>...</td>\n",
       "      <td>...</td>\n",
       "      <td>...</td>\n",
       "      <td>...</td>\n",
       "      <td>...</td>\n",
       "      <td>...</td>\n",
       "      <td>...</td>\n",
       "      <td>...</td>\n",
       "      <td>...</td>\n",
       "      <td>...</td>\n",
       "      <td>...</td>\n",
       "      <td>...</td>\n",
       "    </tr>\n",
       "    <tr>\n",
       "      <th>9995</th>\n",
       "      <td>8510</td>\n",
       "      <td>User8510</td>\n",
       "      <td>NaN</td>\n",
       "      <td>0</td>\n",
       "      <td>0</td>\n",
       "      <td>0</td>\n",
       "      <td>0</td>\n",
       "      <td>0</td>\n",
       "      <td>1</td>\n",
       "      <td>0</td>\n",
       "      <td>...</td>\n",
       "      <td>1</td>\n",
       "      <td>1</td>\n",
       "      <td>0</td>\n",
       "      <td>0</td>\n",
       "      <td>0</td>\n",
       "      <td>0</td>\n",
       "      <td>0</td>\n",
       "      <td>0</td>\n",
       "      <td>0</td>\n",
       "      <td>0</td>\n",
       "    </tr>\n",
       "    <tr>\n",
       "      <th>9996</th>\n",
       "      <td>7843</td>\n",
       "      <td>User7843</td>\n",
       "      <td>NaN</td>\n",
       "      <td>0</td>\n",
       "      <td>1</td>\n",
       "      <td>0</td>\n",
       "      <td>0</td>\n",
       "      <td>1</td>\n",
       "      <td>0</td>\n",
       "      <td>0</td>\n",
       "      <td>...</td>\n",
       "      <td>0</td>\n",
       "      <td>0</td>\n",
       "      <td>1</td>\n",
       "      <td>0</td>\n",
       "      <td>0</td>\n",
       "      <td>0</td>\n",
       "      <td>0</td>\n",
       "      <td>0</td>\n",
       "      <td>0</td>\n",
       "      <td>0</td>\n",
       "    </tr>\n",
       "    <tr>\n",
       "      <th>9997</th>\n",
       "      <td>3914</td>\n",
       "      <td>User3914</td>\n",
       "      <td>NaN</td>\n",
       "      <td>0</td>\n",
       "      <td>0</td>\n",
       "      <td>1</td>\n",
       "      <td>0</td>\n",
       "      <td>0</td>\n",
       "      <td>1</td>\n",
       "      <td>0</td>\n",
       "      <td>...</td>\n",
       "      <td>0</td>\n",
       "      <td>0</td>\n",
       "      <td>0</td>\n",
       "      <td>0</td>\n",
       "      <td>0</td>\n",
       "      <td>0</td>\n",
       "      <td>0</td>\n",
       "      <td>0</td>\n",
       "      <td>1</td>\n",
       "      <td>0</td>\n",
       "    </tr>\n",
       "    <tr>\n",
       "      <th>9998</th>\n",
       "      <td>7924</td>\n",
       "      <td>User7924</td>\n",
       "      <td>NaN</td>\n",
       "      <td>1</td>\n",
       "      <td>0</td>\n",
       "      <td>0</td>\n",
       "      <td>0</td>\n",
       "      <td>1</td>\n",
       "      <td>0</td>\n",
       "      <td>0</td>\n",
       "      <td>...</td>\n",
       "      <td>0</td>\n",
       "      <td>0</td>\n",
       "      <td>0</td>\n",
       "      <td>0</td>\n",
       "      <td>1</td>\n",
       "      <td>0</td>\n",
       "      <td>0</td>\n",
       "      <td>0</td>\n",
       "      <td>1</td>\n",
       "      <td>0</td>\n",
       "    </tr>\n",
       "    <tr>\n",
       "      <th>9999</th>\n",
       "      <td>3056</td>\n",
       "      <td>User3056</td>\n",
       "      <td>44.0</td>\n",
       "      <td>0</td>\n",
       "      <td>0</td>\n",
       "      <td>1</td>\n",
       "      <td>0</td>\n",
       "      <td>0</td>\n",
       "      <td>0</td>\n",
       "      <td>1</td>\n",
       "      <td>...</td>\n",
       "      <td>1</td>\n",
       "      <td>0</td>\n",
       "      <td>0</td>\n",
       "      <td>0</td>\n",
       "      <td>0</td>\n",
       "      <td>1</td>\n",
       "      <td>0</td>\n",
       "      <td>0</td>\n",
       "      <td>1</td>\n",
       "      <td>0</td>\n",
       "    </tr>\n",
       "  </tbody>\n",
       "</table>\n",
       "<p>7147 rows × 22 columns</p>\n",
       "</div>"
      ],
      "text/plain": [
       "        id full_name   age  click  Female  Male  Non-Binary  Desktop  Mobile  \\\n",
       "0      670   User670  22.0      1       0     0           0        1       0   \n",
       "1     3044  User3044   NaN      1       0     1           0        1       0   \n",
       "2     5912  User5912  41.0      1       0     0           1        0       0   \n",
       "3     5418  User5418  34.0      1       0     1           0        0       0   \n",
       "4     9452  User9452  39.0      0       0     0           1        0       0   \n",
       "...    ...       ...   ...    ...     ...   ...         ...      ...     ...   \n",
       "9995  8510  User8510   NaN      0       0     0           0        0       1   \n",
       "9996  7843  User7843   NaN      0       1     0           0        1       0   \n",
       "9997  3914  User3914   NaN      0       0     1           0        0       1   \n",
       "9998  7924  User7924   NaN      1       0     0           0        1       0   \n",
       "9999  3056  User3056  44.0      0       0     1           0        0       0   \n",
       "\n",
       "      Tablet  ...  Top  Education  Entertainment  News  Shopping  \\\n",
       "0          0  ...    1          0              0     0         1   \n",
       "1          0  ...    1          0              0     0         0   \n",
       "2          0  ...    0          1              0     0         0   \n",
       "3          0  ...    0          0              1     0         0   \n",
       "4          0  ...    0          0              0     0         0   \n",
       "...      ...  ...  ...        ...            ...   ...       ...   \n",
       "9995       0  ...    1          1              0     0         0   \n",
       "9996       0  ...    0          0              1     0         0   \n",
       "9997       0  ...    0          0              0     0         0   \n",
       "9998       0  ...    0          0              0     0         1   \n",
       "9999       1  ...    1          0              0     0         0   \n",
       "\n",
       "      Social Media  Afternoon  Evening  Morning  Night  \n",
       "0                0          1        0        0      0  \n",
       "1                0          0        0        0      0  \n",
       "2                0          0        0        0      1  \n",
       "3                0          0        1        0      0  \n",
       "4                1          0        0        1      0  \n",
       "...            ...        ...      ...      ...    ...  \n",
       "9995             0          0        0        0      0  \n",
       "9996             0          0        0        0      0  \n",
       "9997             0          0        0        1      0  \n",
       "9998             0          0        0        1      0  \n",
       "9999             1          0        0        1      0  \n",
       "\n",
       "[7147 rows x 22 columns]"
      ]
     },
     "execution_count": 66,
     "metadata": {},
     "output_type": "execute_result"
    }
   ],
   "source": [
    "# Gets every unique value for 'gender', and creates boolean columns for each.\n",
    "gender_dummies = pd.get_dummies(df_clean['gender'], dtype='int64')\n",
    "df_clean = pd.concat([df_clean, gender_dummies], axis=1)\n",
    "df_clean = df_clean.drop(['gender'], axis=1)\n",
    "\n",
    "# Gets every unique value for 'device_type', and creates boolean columns for each.\n",
    "device_dummies = pd.get_dummies(df_clean['device_type'], dtype='int64')\n",
    "df_clean = pd.concat([df_clean, device_dummies], axis=1)\n",
    "df_clean = df_clean.drop(['device_type'], axis=1)\n",
    "\n",
    "# Gets every unique value for 'ad_position', and creates boolean columns for each.\n",
    "ad_dummies = pd.get_dummies(df_clean['ad_position'], dtype='int64')\n",
    "df_clean = pd.concat([df_clean, ad_dummies], axis=1)\n",
    "df_clean = df_clean.drop(['ad_position'], axis=1)\n",
    "\n",
    "#Gets every unique value for 'browsing_history', and creates boolean columns for each.\n",
    "history_dummies = pd.get_dummies(df_clean['browsing_history'], dtype='int64')\n",
    "df_clean = pd.concat([df_clean, history_dummies], axis=1)\n",
    "df_clean = df_clean.drop(['browsing_history'], axis=1)\n",
    "\n",
    "#Gets every unique value for 'time_of_day', and creates boolean columns for each.\n",
    "time_dummies = pd.get_dummies(df_clean['time_of_day'], dtype='int64')\n",
    "df_clean = pd.concat([df_clean, time_dummies], axis=1)\n",
    "df_clean = df_clean.drop(['time_of_day'], axis=1)\n",
    "\n",
    "\n",
    "# View dataset\n",
    "df_clean"
   ]
  },
  {
   "cell_type": "markdown",
   "metadata": {},
   "source": [
    "And this concludes our data cleaning and preprocessing, which means its time to move on to..."
   ]
  },
  {
   "cell_type": "markdown",
   "metadata": {},
   "source": [
    "## Data Visualization"
   ]
  },
  {
   "cell_type": "markdown",
   "metadata": {},
   "source": [
    "Below is a series of five double bar plots. Each one covers one of the five categorical variables: <b>gender</b>, <b>device_type</b>, <b>ad_position</b>, <b>browsing_history</b>, and <b>time_of_day</b>. Here they count they number of entries that each category has for both clicking and not clicking the ad. Surprisingly, there is no immediate connection that jumps out between any of these values and the outcome of <b>click</b>. "
   ]
  },
  {
   "cell_type": "code",
   "execution_count": 67,
   "metadata": {},
   "outputs": [],
   "source": [
    "import matplotlib.pyplot as plt\n",
    "import numpy as np"
   ]
  },
  {
   "cell_type": "code",
   "execution_count": 78,
   "metadata": {},
   "outputs": [
    {
     "data": {
      "image/png": "[encoded data removed]",
      "text/plain": [
       "<Figure size 2000x500 with 5 Axes>"
      ]
     },
     "metadata": {},
     "output_type": "display_data"
    }
   ],
   "source": [
    "main_variables = ['gender', 'device_type', 'ad_position', 'browsing_history', 'time_of_day']\n",
    "fig, axes = plt.subplots(1, 5, figsize=(20, 5), sharey=True)\n",
    "\n",
    "\n",
    "for ax, variable in zip(axes, main_variables):\n",
    "    # Group by the current variable and 'click', then count the occurrences\n",
    "    variable_click_counts = df_forGraphs.groupby([variable, 'click']).size().unstack(fill_value=0)\n",
    "    \n",
    "    # Plot the bar chart for the current variable\n",
    "    variable_click_counts.plot(kind='bar', ax=ax, stacked=False)\n",
    "    ax.set_title(f'Counts of Clicks by {variable.capitalize()}')\n",
    "    ax.set_xlabel(variable.capitalize())\n",
    "    ax.set_ylabel('Count' if ax == axes[0] else '')  # Show y-label only on the first plot\n",
    "    ax.legend(title='Click')\n",
    "    ax.tick_params(axis='x', rotation=25)  # Rotate x-axis labels\n",
    "\n",
    "plt.tight_layout()\n",
    "plt.show()"
   ]
  },
  {
   "cell_type": "markdown",
   "metadata": {},
   "source": [
    "## Modeling"
   ]
  },
  {
   "cell_type": "markdown",
   "metadata": {},
   "source": [
    "NOTE: No models have been developed yet, though I believe I will be using a Naive Bayes model. It should work well with my large number of features and the many categorical variables in play. I am also considering using a Logistic Regression model, as I have some previous experience with it, or a Random forest model, though I do not have much experience or knowledge of this type of model. I plan to create multiple models to determine which one functions the best for the type of data I have. My main concern with modeling is the distinct lack of effect any of the variables seem to have on the target. Each variable waivers around roughly 50/50, meaning any model I create may be best just flipping a coin. If this ends up being the case, at best I can report that the variables given by the dataset are not good predictors. Sometimes a question like \"Whats optimal?\" has to be answered with \"I don't know\"."
   ]
  },
  {
   "cell_type": "markdown",
   "metadata": {},
   "source": []
  }
 ],
 "metadata": {
  "kernelspec": {
   "display_name": "base",
   "language": "python",
   "name": "python3"
  },
  "language_info": {
   "codemirror_mode": {
    "name": "ipython",
    "version": 3
   },
   "file_extension": ".py",
   "mimetype": "text/x-python",
   "name": "python",
   "nbconvert_exporter": "python",
   "pygments_lexer": "ipython3",
   "version": "3.12.4"
  }
 },
 "nbformat": 4,
 "nbformat_minor": 2
}
